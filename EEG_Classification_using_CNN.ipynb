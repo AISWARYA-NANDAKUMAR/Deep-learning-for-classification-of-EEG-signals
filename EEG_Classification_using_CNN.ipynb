{
  "nbformat": 4,
  "nbformat_minor": 0,
  "metadata": {
    "colab": {
      "name": "EEG Classification using CNN.ipynb",
      "provenance": [],
      "collapsed_sections": []
    },
    "kernelspec": {
      "name": "python3",
      "display_name": "Python 3"
    },
    "language_info": {
      "name": "python"
    }
  },
  "cells": [
    {
      "cell_type": "code",
      "metadata": {
        "colab": {
          "base_uri": "https://localhost:8080/",
          "height": 221
        },
        "id": "5ADJYTP_DZe_",
        "outputId": "c50c7334-541c-42ff-bda4-d083f0478e47"
      },
      "source": [
        "#import dataset\n",
        "from google.colab import drive\n",
        "drive.mount('/content/drive')\n",
        "#Loading the Dataset\n",
        "import pandas as pd\n",
        "\n",
        "path = '/content/drive/MyDrive/Random forest SVM Decision trees/data.txt'\n",
        "df = pd.read_csv(path,sep=',')\n",
        "df.columns = ['0', '1', '2', '3', '4','5','6','7','8','9','10','11','12','13','target_class']\n",
        "df.head()"
      ],
      "execution_count": null,
      "outputs": [
        {
          "output_type": "stream",
          "text": [
            "Mounted at /content/drive\n"
          ],
          "name": "stdout"
        },
        {
          "output_type": "execute_result",
          "data": {
            "text/html": [
              "<div>\n",
              "<style scoped>\n",
              "    .dataframe tbody tr th:only-of-type {\n",
              "        vertical-align: middle;\n",
              "    }\n",
              "\n",
              "    .dataframe tbody tr th {\n",
              "        vertical-align: top;\n",
              "    }\n",
              "\n",
              "    .dataframe thead th {\n",
              "        text-align: right;\n",
              "    }\n",
              "</style>\n",
              "<table border=\"1\" class=\"dataframe\">\n",
              "  <thead>\n",
              "    <tr style=\"text-align: right;\">\n",
              "      <th></th>\n",
              "      <th>0</th>\n",
              "      <th>1</th>\n",
              "      <th>2</th>\n",
              "      <th>3</th>\n",
              "      <th>4</th>\n",
              "      <th>5</th>\n",
              "      <th>6</th>\n",
              "      <th>7</th>\n",
              "      <th>8</th>\n",
              "      <th>9</th>\n",
              "      <th>10</th>\n",
              "      <th>11</th>\n",
              "      <th>12</th>\n",
              "      <th>13</th>\n",
              "      <th>target_class</th>\n",
              "    </tr>\n",
              "  </thead>\n",
              "  <tbody>\n",
              "    <tr>\n",
              "      <th>0</th>\n",
              "      <td>4324.62</td>\n",
              "      <td>4004.62</td>\n",
              "      <td>4293.85</td>\n",
              "      <td>4148.72</td>\n",
              "      <td>4342.05</td>\n",
              "      <td>4586.67</td>\n",
              "      <td>4097.44</td>\n",
              "      <td>4638.97</td>\n",
              "      <td>4210.77</td>\n",
              "      <td>4226.67</td>\n",
              "      <td>4207.69</td>\n",
              "      <td>4279.49</td>\n",
              "      <td>4632.82</td>\n",
              "      <td>4384.10</td>\n",
              "      <td>0</td>\n",
              "    </tr>\n",
              "    <tr>\n",
              "      <th>1</th>\n",
              "      <td>4327.69</td>\n",
              "      <td>4006.67</td>\n",
              "      <td>4295.38</td>\n",
              "      <td>4156.41</td>\n",
              "      <td>4336.92</td>\n",
              "      <td>4583.59</td>\n",
              "      <td>4096.92</td>\n",
              "      <td>4630.26</td>\n",
              "      <td>4207.69</td>\n",
              "      <td>4222.05</td>\n",
              "      <td>4206.67</td>\n",
              "      <td>4282.05</td>\n",
              "      <td>4628.72</td>\n",
              "      <td>4389.23</td>\n",
              "      <td>0</td>\n",
              "    </tr>\n",
              "    <tr>\n",
              "      <th>2</th>\n",
              "      <td>4328.72</td>\n",
              "      <td>4011.79</td>\n",
              "      <td>4296.41</td>\n",
              "      <td>4155.90</td>\n",
              "      <td>4343.59</td>\n",
              "      <td>4582.56</td>\n",
              "      <td>4097.44</td>\n",
              "      <td>4630.77</td>\n",
              "      <td>4217.44</td>\n",
              "      <td>4235.38</td>\n",
              "      <td>4210.77</td>\n",
              "      <td>4287.69</td>\n",
              "      <td>4632.31</td>\n",
              "      <td>4396.41</td>\n",
              "      <td>0</td>\n",
              "    </tr>\n",
              "    <tr>\n",
              "      <th>3</th>\n",
              "      <td>4326.15</td>\n",
              "      <td>4011.79</td>\n",
              "      <td>4292.31</td>\n",
              "      <td>4151.28</td>\n",
              "      <td>4347.69</td>\n",
              "      <td>4586.67</td>\n",
              "      <td>4095.90</td>\n",
              "      <td>4627.69</td>\n",
              "      <td>4210.77</td>\n",
              "      <td>4244.10</td>\n",
              "      <td>4212.82</td>\n",
              "      <td>4288.21</td>\n",
              "      <td>4632.82</td>\n",
              "      <td>4398.46</td>\n",
              "      <td>0</td>\n",
              "    </tr>\n",
              "    <tr>\n",
              "      <th>4</th>\n",
              "      <td>4321.03</td>\n",
              "      <td>4004.62</td>\n",
              "      <td>4284.10</td>\n",
              "      <td>4153.33</td>\n",
              "      <td>4345.64</td>\n",
              "      <td>4587.18</td>\n",
              "      <td>4093.33</td>\n",
              "      <td>4616.92</td>\n",
              "      <td>4202.56</td>\n",
              "      <td>4232.82</td>\n",
              "      <td>4209.74</td>\n",
              "      <td>4281.03</td>\n",
              "      <td>4628.21</td>\n",
              "      <td>4389.74</td>\n",
              "      <td>0</td>\n",
              "    </tr>\n",
              "  </tbody>\n",
              "</table>\n",
              "</div>"
            ],
            "text/plain": [
              "         0        1        2        3  ...       11       12       13  target_class\n",
              "0  4324.62  4004.62  4293.85  4148.72  ...  4279.49  4632.82  4384.10             0\n",
              "1  4327.69  4006.67  4295.38  4156.41  ...  4282.05  4628.72  4389.23             0\n",
              "2  4328.72  4011.79  4296.41  4155.90  ...  4287.69  4632.31  4396.41             0\n",
              "3  4326.15  4011.79  4292.31  4151.28  ...  4288.21  4632.82  4398.46             0\n",
              "4  4321.03  4004.62  4284.10  4153.33  ...  4281.03  4628.21  4389.74             0\n",
              "\n",
              "[5 rows x 15 columns]"
            ]
          },
          "metadata": {
            "tags": []
          },
          "execution_count": 1
        }
      ]
    },
    {
      "cell_type": "code",
      "metadata": {
        "colab": {
          "base_uri": "https://localhost:8080/"
        },
        "id": "m3hGEaKXFFOQ",
        "outputId": "3e4a8f9e-34c6-4913-fa87-5a97189dafcc"
      },
      "source": [
        "from sklearn.model_selection import train_test_split\n",
        "import numpy as np\n",
        "X=df[df.columns[0:14]].values # Features\n",
        "y = df['target_class'] # Target variable\n",
        "X_train, X_test, y_train, y_test = train_test_split(X, y, test_size=0.1) # 90% training and 10% test\n",
        "print('X_train',X_train.shape)\n",
        "print('X_test',X_test.shape)\n",
        "print('y_train',y_train.shape)\n",
        "print('y_test',y_test.shape)"
      ],
      "execution_count": null,
      "outputs": [
        {
          "output_type": "stream",
          "text": [
            "X_train (13481, 14)\n",
            "X_test (1498, 14)\n",
            "y_train (13481,)\n",
            "y_test (1498,)\n"
          ],
          "name": "stdout"
        }
      ]
    },
    {
      "cell_type": "code",
      "metadata": {
        "id": "WQPUxrfoFPNo"
      },
      "source": [
        "df['mean']=df.mean(axis=1)\n",
        "df['min'] = df.min(axis=1)\n",
        "df['max']=df.max(axis=1)\n",
        "df['stddev']=df.std(axis=1)\n",
        "df['skew']=df.skew(axis=1)\n",
        "df['kurtosis']=df.kurtosis(axis=1)"
      ],
      "execution_count": null,
      "outputs": []
    },
    {
      "cell_type": "code",
      "metadata": {
        "id": "3kAc6ZRxGDZj"
      },
      "source": [
        "inputs_n=df.drop(['0', '1', '2', '3', '4','5','6','7','8','9','10','11','12','13'],axis='columns')"
      ],
      "execution_count": null,
      "outputs": []
    },
    {
      "cell_type": "code",
      "metadata": {
        "id": "sws4yrIqGVjB"
      },
      "source": [
        "feature_cols = ['mean', 'min', 'max', 'stddev','kurtosis','skew']\n",
        "X = inputs_n[feature_cols] # Features\n",
        "y = df['target_class'] # Target variable"
      ],
      "execution_count": null,
      "outputs": []
    },
    {
      "cell_type": "code",
      "metadata": {
        "colab": {
          "base_uri": "https://localhost:8080/"
        },
        "id": "t1Kw2RFIGfny",
        "outputId": "e90f08a3-7d59-45e5-d667-f3cbca87cf18"
      },
      "source": [
        "from sklearn.model_selection import train_test_split\n",
        "X_train, X_test, y_train, y_test = train_test_split(X, y, test_size=0.1) # 90% training and 10% test\n",
        "print('X_train',X_train.shape)\n",
        "print('X_test',X_test.shape)\n",
        "print('y_train',y_train.shape)\n",
        "print('y_test',y_test.shape)"
      ],
      "execution_count": null,
      "outputs": [
        {
          "output_type": "stream",
          "text": [
            "X_train (13481, 6)\n",
            "X_test (1498, 6)\n",
            "y_train (13481,)\n",
            "y_test (1498,)\n"
          ],
          "name": "stdout"
        }
      ]
    },
    {
      "cell_type": "code",
      "metadata": {
        "id": "CIl1zBgXHbjR"
      },
      "source": [
        "import tensorflow as tf\n",
        "model=tf.keras.models.Sequential([\n",
        "                               tf.keras.layers.Flatten(),\n",
        "                               tf.keras.layers.Dense(256, activation=tf.nn.sigmoid),#HiddenLayer\n",
        "                               tf.keras.layers.Dense(2, activation=tf.nn.softmax)   \n",
        "])"
      ],
      "execution_count": null,
      "outputs": []
    },
    {
      "cell_type": "code",
      "metadata": {
        "id": "HRYmW9OPHfpg"
      },
      "source": [
        "model.compile(optimizer='rmsprop',loss=tf.losses.sparse_categorical_crossentropy,metrics=['accuracy'])"
      ],
      "execution_count": null,
      "outputs": []
    },
    {
      "cell_type": "code",
      "metadata": {
        "colab": {
          "base_uri": "https://localhost:8080/"
        },
        "id": "71qdj7_DHjIB",
        "outputId": "1c5314de-a76e-4321-b0d3-b3092a27c54b"
      },
      "source": [
        "history=model.fit(X_train,y_train,epochs=30,validation_data=(X_test,y_test))"
      ],
      "execution_count": null,
      "outputs": [
        {
          "output_type": "stream",
          "text": [
            "Epoch 1/30\n",
            "422/422 [==============================] - 1s 2ms/step - loss: 0.6952 - accuracy: 0.5333 - val_loss: 0.7390 - val_accuracy: 0.5567\n",
            "Epoch 2/30\n",
            "422/422 [==============================] - 1s 1ms/step - loss: 0.6941 - accuracy: 0.5324 - val_loss: 0.7186 - val_accuracy: 0.5567\n",
            "Epoch 3/30\n",
            "422/422 [==============================] - 1s 1ms/step - loss: 0.6957 - accuracy: 0.5287 - val_loss: 0.6869 - val_accuracy: 0.5567\n",
            "Epoch 4/30\n",
            "422/422 [==============================] - 1s 1ms/step - loss: 0.6944 - accuracy: 0.5344 - val_loss: 0.7276 - val_accuracy: 0.5567\n",
            "Epoch 5/30\n",
            "422/422 [==============================] - 1s 1ms/step - loss: 0.6941 - accuracy: 0.5368 - val_loss: 0.6929 - val_accuracy: 0.5567\n",
            "Epoch 6/30\n",
            "422/422 [==============================] - 1s 1ms/step - loss: 0.6947 - accuracy: 0.5319 - val_loss: 0.7206 - val_accuracy: 0.5567\n",
            "Epoch 7/30\n",
            "422/422 [==============================] - 1s 1ms/step - loss: 0.6941 - accuracy: 0.5315 - val_loss: 0.6989 - val_accuracy: 0.5567\n",
            "Epoch 8/30\n",
            "422/422 [==============================] - 1s 1ms/step - loss: 0.6947 - accuracy: 0.5279 - val_loss: 0.6923 - val_accuracy: 0.5567\n",
            "Epoch 9/30\n",
            "422/422 [==============================] - 1s 1ms/step - loss: 0.6943 - accuracy: 0.5282 - val_loss: 0.6878 - val_accuracy: 0.5567\n",
            "Epoch 10/30\n",
            "422/422 [==============================] - 1s 1ms/step - loss: 0.6944 - accuracy: 0.5323 - val_loss: 0.6867 - val_accuracy: 0.5567\n",
            "Epoch 11/30\n",
            "422/422 [==============================] - 1s 1ms/step - loss: 0.6952 - accuracy: 0.5314 - val_loss: 0.7208 - val_accuracy: 0.4433\n",
            "Epoch 12/30\n",
            "422/422 [==============================] - 1s 1ms/step - loss: 0.6942 - accuracy: 0.5335 - val_loss: 0.7014 - val_accuracy: 0.5567\n",
            "Epoch 13/30\n",
            "422/422 [==============================] - 1s 1ms/step - loss: 0.6960 - accuracy: 0.5326 - val_loss: 0.6928 - val_accuracy: 0.5567\n",
            "Epoch 14/30\n",
            "422/422 [==============================] - 1s 1ms/step - loss: 0.6958 - accuracy: 0.5308 - val_loss: 0.6867 - val_accuracy: 0.5567\n",
            "Epoch 15/30\n",
            "422/422 [==============================] - 1s 1ms/step - loss: 0.6948 - accuracy: 0.5310 - val_loss: 0.6887 - val_accuracy: 0.5567\n",
            "Epoch 16/30\n",
            "422/422 [==============================] - 1s 1ms/step - loss: 0.6943 - accuracy: 0.5345 - val_loss: 0.6900 - val_accuracy: 0.5567\n",
            "Epoch 17/30\n",
            "422/422 [==============================] - 1s 1ms/step - loss: 0.6941 - accuracy: 0.5313 - val_loss: 0.6985 - val_accuracy: 0.4433\n",
            "Epoch 18/30\n",
            "422/422 [==============================] - 1s 1ms/step - loss: 0.6952 - accuracy: 0.5296 - val_loss: 0.7038 - val_accuracy: 0.5567\n",
            "Epoch 19/30\n",
            "422/422 [==============================] - 1s 1ms/step - loss: 0.6938 - accuracy: 0.5384 - val_loss: 0.6873 - val_accuracy: 0.5567\n",
            "Epoch 20/30\n",
            "422/422 [==============================] - 1s 1ms/step - loss: 0.6950 - accuracy: 0.5322 - val_loss: 0.6908 - val_accuracy: 0.5567\n",
            "Epoch 21/30\n",
            "422/422 [==============================] - 1s 1ms/step - loss: 0.6950 - accuracy: 0.5270 - val_loss: 0.6870 - val_accuracy: 0.5567\n",
            "Epoch 22/30\n",
            "422/422 [==============================] - 1s 1ms/step - loss: 0.6942 - accuracy: 0.5337 - val_loss: 0.6871 - val_accuracy: 0.5567\n",
            "Epoch 23/30\n",
            "422/422 [==============================] - 1s 1ms/step - loss: 0.6951 - accuracy: 0.5267 - val_loss: 0.6988 - val_accuracy: 0.4433\n",
            "Epoch 24/30\n",
            "422/422 [==============================] - 1s 1ms/step - loss: 0.6957 - accuracy: 0.5261 - val_loss: 0.7032 - val_accuracy: 0.5567\n",
            "Epoch 25/30\n",
            "422/422 [==============================] - 1s 1ms/step - loss: 0.6950 - accuracy: 0.5348 - val_loss: 0.7654 - val_accuracy: 0.4433\n",
            "Epoch 26/30\n",
            "422/422 [==============================] - 1s 1ms/step - loss: 0.6964 - accuracy: 0.5296 - val_loss: 0.6921 - val_accuracy: 0.5567\n",
            "Epoch 27/30\n",
            "422/422 [==============================] - 1s 1ms/step - loss: 0.6959 - accuracy: 0.5333 - val_loss: 0.6881 - val_accuracy: 0.5567\n",
            "Epoch 28/30\n",
            "422/422 [==============================] - 1s 1ms/step - loss: 0.6947 - accuracy: 0.5330 - val_loss: 0.8039 - val_accuracy: 0.4433\n",
            "Epoch 29/30\n",
            "422/422 [==============================] - 1s 1ms/step - loss: 0.6954 - accuracy: 0.5326 - val_loss: 0.6896 - val_accuracy: 0.5567\n",
            "Epoch 30/30\n",
            "422/422 [==============================] - 1s 1ms/step - loss: 0.6950 - accuracy: 0.5347 - val_loss: 0.6868 - val_accuracy: 0.5567\n"
          ],
          "name": "stdout"
        }
      ]
    },
    {
      "cell_type": "code",
      "metadata": {
        "colab": {
          "base_uri": "https://localhost:8080/",
          "height": 298
        },
        "id": "BwwPLnq4ILWy",
        "outputId": "5b62497d-bc95-484c-fa45-9046c864b103"
      },
      "source": [
        "import matplotlib.pyplot as plt\n",
        "plt.title('Cross Entropy Loss')\n",
        "plt.plot(history.history['loss'], color='blue', label='train')\n",
        "plt.plot(history.history['val_loss'], color='orange', label='test')\n",
        "plt.legend(['training loss','validation loss'])"
      ],
      "execution_count": null,
      "outputs": [
        {
          "output_type": "execute_result",
          "data": {
            "text/plain": [
              "<matplotlib.legend.Legend at 0x7fd7e3850f10>"
            ]
          },
          "metadata": {
            "tags": []
          },
          "execution_count": 23
        },
        {
          "output_type": "display_data",
          "data": {
            "image/png": "[encoded data removed]",
            "text/plain": [
              "<Figure size 432x288 with 1 Axes>"
            ]
          },
          "metadata": {
            "tags": [],
            "needs_background": "light"
          }
        }
      ]
    },
    {
      "cell_type": "code",
      "metadata": {
        "colab": {
          "base_uri": "https://localhost:8080/",
          "height": 298
        },
        "id": "l7-GwcwfIWvC",
        "outputId": "aa02f513-8737-4341-e67e-a8ee665c00d8"
      },
      "source": [
        "import matplotlib.pyplot as plt\n",
        "plt.title('Classification Accuracy')\n",
        "plt.plot(history.history['accuracy'], color='blue', label='train')\n",
        "plt.plot(history.history['val_accuracy'], color='orange', label='test')\n",
        "plt.legend(['training accuracy','validation accuracy'])"
      ],
      "execution_count": null,
      "outputs": [
        {
          "output_type": "execute_result",
          "data": {
            "text/plain": [
              "<matplotlib.legend.Legend at 0x7fd7e37476d0>"
            ]
          },
          "metadata": {
            "tags": []
          },
          "execution_count": 24
        },
        {
          "output_type": "display_data",
          "data": {
            "image/png": "[encoded data removed]",
            "text/plain": [
              "<Figure size 432x288 with 1 Axes>"
            ]
          },
          "metadata": {
            "tags": [],
            "needs_background": "light"
          }
        }
      ]
    }
  ]
}